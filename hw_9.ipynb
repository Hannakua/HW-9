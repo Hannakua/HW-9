{
 "cells": [
  {
   "cell_type": "code",
   "execution_count": 3,
   "metadata": {
    "colab": {},
    "colab_type": "code",
    "id": "qrfd6FzSLrE2"
   },
   "outputs": [
    {
     "name": "stdout",
     "output_type": "stream",
     "text": [
      "WARNING:tensorflow:From c:\\Users\\user\\AppData\\Local\\Programs\\Python\\Python311\\Lib\\site-packages\\keras\\src\\losses.py:2976: The name tf.losses.sparse_softmax_cross_entropy is deprecated. Please use tf.compat.v1.losses.sparse_softmax_cross_entropy instead.\n",
      "\n"
     ]
    }
   ],
   "source": [
    "from tensorflow.keras.datasets import fashion_mnist\n",
    "from tensorflow.keras.models import Sequential\n",
    "from tensorflow.keras.layers import Dense, Dropout\n",
    "from keras import metrics\n",
    "import numpy as np\n"
   ]
  },
  {
   "cell_type": "code",
   "execution_count": 4,
   "metadata": {
    "colab": {
     "base_uri": "https://localhost:8080/",
     "height": 151
    },
    "colab_type": "code",
    "id": "E5L3LUIi8PDV",
    "outputId": "0a457349-c6af-4076-d5df-fed49405e616"
   },
   "outputs": [],
   "source": [
    "(train_data, train_labels), (test_data, test_labels) = fashion_mnist.load_data()\n",
    "\n",
    "train_data = train_data.reshape(60000, 784)\n",
    "test_data = test_data.reshape(10000, 784)"
   ]
  },
  {
   "cell_type": "code",
   "execution_count": 5,
   "metadata": {},
   "outputs": [
    {
     "data": {
      "text/plain": [
       "(60000, 784)"
      ]
     },
     "execution_count": 5,
     "metadata": {},
     "output_type": "execute_result"
    }
   ],
   "source": [
    "train_data = train_data / 255.0\n",
    "test_data = test_data / 255.0\n",
    "\n",
    "train_data.shape"
   ]
  },
  {
   "cell_type": "code",
   "execution_count": 6,
   "metadata": {},
   "outputs": [],
   "source": [
    "def vectorize_sequences(sequences, dimension=10):\n",
    "    results = np.zeros((len(sequences), dimension))\n",
    "    for i, sequence in enumerate(sequences):\n",
    "        results[i, sequence] = 1.0\n",
    "    return results"
   ]
  },
  {
   "cell_type": "code",
   "execution_count": 7,
   "metadata": {},
   "outputs": [],
   "source": [
    "train_labels = vectorize_sequences(train_labels)\n",
    "test_labels = vectorize_sequences(test_labels)"
   ]
  },
  {
   "cell_type": "code",
   "execution_count": 8,
   "metadata": {
    "colab": {
     "base_uri": "https://localhost:8080/",
     "height": 35
    },
    "colab_type": "code",
    "id": "9zUfd1aeKH3e",
    "outputId": "19690c10-b9d7-4911-b826-260515752e0b"
   },
   "outputs": [
    {
     "data": {
      "text/plain": [
       "array([[0., 0., 0., 1., 0., 0., 0., 0., 0., 0.],\n",
       "       [1., 0., 0., 0., 0., 0., 0., 0., 0., 0.],\n",
       "       [0., 0., 1., 0., 0., 0., 0., 0., 0., 0.]])"
      ]
     },
     "execution_count": 8,
     "metadata": {},
     "output_type": "execute_result"
    }
   ],
   "source": [
    "train_labels[25:28]"
   ]
  },
  {
   "cell_type": "code",
   "execution_count": 9,
   "metadata": {
    "colab": {
     "base_uri": "https://localhost:8080/",
     "height": 89
    },
    "colab_type": "code",
    "id": "kYVSvpNIMSnG",
    "outputId": "38f5442b-e2a2-4e9d-db6a-af5883d208a1"
   },
   "outputs": [
    {
     "name": "stdout",
     "output_type": "stream",
     "text": [
      "WARNING:tensorflow:From c:\\Users\\user\\AppData\\Local\\Programs\\Python\\Python311\\Lib\\site-packages\\keras\\src\\backend.py:873: The name tf.get_default_graph is deprecated. Please use tf.compat.v1.get_default_graph instead.\n",
      "\n"
     ]
    }
   ],
   "source": [
    "model = Sequential(\n",
    "    [\n",
    "        Dense(750, input_dim=train_data.shape[1], activation=\"relu\"),\n",
    "        Dense(64, activation=\"relu\"),\n",
    "        Dropout(0.2),\n",
    "        Dense(10, activation=\"softmax\"),\n",
    "    ]\n",
    ")"
   ]
  },
  {
   "cell_type": "code",
   "execution_count": 10,
   "metadata": {},
   "outputs": [
    {
     "name": "stdout",
     "output_type": "stream",
     "text": [
      "Model: \"sequential\"\n",
      "_________________________________________________________________\n",
      " Layer (type)                Output Shape              Param #   \n",
      "=================================================================\n",
      " dense (Dense)               (None, 750)               588750    \n",
      "                                                                 \n",
      " dense_1 (Dense)             (None, 64)                48064     \n",
      "                                                                 \n",
      " dropout (Dropout)           (None, 64)                0         \n",
      "                                                                 \n",
      " dense_2 (Dense)             (None, 10)                650       \n",
      "                                                                 \n",
      "=================================================================\n",
      "Total params: 637464 (2.43 MB)\n",
      "Trainable params: 637464 (2.43 MB)\n",
      "Non-trainable params: 0 (0.00 Byte)\n",
      "_________________________________________________________________\n"
     ]
    }
   ],
   "source": [
    "model.summary()"
   ]
  },
  {
   "cell_type": "code",
   "execution_count": 11,
   "metadata": {
    "colab": {
     "base_uri": "https://localhost:8080/",
     "height": 225
    },
    "colab_type": "code",
    "id": "PTcbSxchKZjd",
    "outputId": "5f793a71-cb1c-4059-a0df-bf1b7a6c1d7c"
   },
   "outputs": [
    {
     "name": "stdout",
     "output_type": "stream",
     "text": [
      "WARNING:tensorflow:From c:\\Users\\user\\AppData\\Local\\Programs\\Python\\Python311\\Lib\\site-packages\\keras\\src\\optimizers\\__init__.py:309: The name tf.train.Optimizer is deprecated. Please use tf.compat.v1.train.Optimizer instead.\n",
      "\n"
     ]
    }
   ],
   "source": [
    "model.compile(\n",
    "    optimizer=\"Adam\",\n",
    "    loss=\"categorical_crossentropy\",\n",
    "    metrics=[\"accuracy\", metrics.Recall(), metrics.Precision(), metrics.F1Score(),\n",
    "    ],\n",
    ")"
   ]
  },
  {
   "cell_type": "code",
   "execution_count": 12,
   "metadata": {},
   "outputs": [],
   "source": [
    "epochs = 30"
   ]
  },
  {
   "cell_type": "code",
   "execution_count": 13,
   "metadata": {
    "colab": {
     "base_uri": "https://localhost:8080/",
     "height": 3573
    },
    "colab_type": "code",
    "id": "H6EIXu1dKoju",
    "outputId": "d824768e-d0d3-4f2f-c2af-5e7d5e2addcf"
   },
   "outputs": [
    {
     "name": "stdout",
     "output_type": "stream",
     "text": [
      "Epoch 1/30\n",
      "WARNING:tensorflow:From c:\\Users\\user\\AppData\\Local\\Programs\\Python\\Python311\\Lib\\site-packages\\keras\\src\\utils\\tf_utils.py:492: The name tf.ragged.RaggedTensorValue is deprecated. Please use tf.compat.v1.ragged.RaggedTensorValue instead.\n",
      "\n",
      "WARNING:tensorflow:From c:\\Users\\user\\AppData\\Local\\Programs\\Python\\Python311\\Lib\\site-packages\\keras\\src\\engine\\base_layer_utils.py:384: The name tf.executing_eagerly_outside_functions is deprecated. Please use tf.compat.v1.executing_eagerly_outside_functions instead.\n",
      "\n",
      "375/375 [==============================] - 4s 9ms/step - loss: 0.5578 - accuracy: 0.8038 - recall: 0.7409 - precision: 0.8631 - f1_score: 0.8023 - val_loss: 0.3997 - val_accuracy: 0.8510 - val_recall: 0.8070 - val_precision: 0.8955 - val_f1_score: 0.8490\n",
      "Epoch 2/30\n",
      "375/375 [==============================] - 3s 8ms/step - loss: 0.4018 - accuracy: 0.8556 - recall: 0.8207 - precision: 0.8891 - f1_score: 0.8551 - val_loss: 0.4096 - val_accuracy: 0.8439 - val_recall: 0.8087 - val_precision: 0.8774 - val_f1_score: 0.8420\n",
      "Epoch 3/30\n",
      "375/375 [==============================] - 3s 8ms/step - loss: 0.3556 - accuracy: 0.8716 - recall: 0.8424 - precision: 0.9005 - f1_score: 0.8712 - val_loss: 0.3604 - val_accuracy: 0.8705 - val_recall: 0.8462 - val_precision: 0.8916 - val_f1_score: 0.8679\n",
      "Epoch 4/30\n",
      "375/375 [==============================] - 3s 8ms/step - loss: 0.3278 - accuracy: 0.8787 - recall: 0.8541 - precision: 0.9054 - f1_score: 0.8784 - val_loss: 0.3354 - val_accuracy: 0.8790 - val_recall: 0.8605 - val_precision: 0.8992 - val_f1_score: 0.8766\n",
      "Epoch 5/30\n",
      "375/375 [==============================] - 3s 8ms/step - loss: 0.3086 - accuracy: 0.8867 - recall: 0.8632 - precision: 0.9107 - f1_score: 0.8863 - val_loss: 0.3148 - val_accuracy: 0.8847 - val_recall: 0.8634 - val_precision: 0.9077 - val_f1_score: 0.8843\n",
      "Epoch 6/30\n",
      "375/375 [==============================] - 3s 8ms/step - loss: 0.2933 - accuracy: 0.8914 - recall: 0.8697 - precision: 0.9136 - f1_score: 0.8910 - val_loss: 0.3370 - val_accuracy: 0.8830 - val_recall: 0.8638 - val_precision: 0.9022 - val_f1_score: 0.8807\n",
      "Epoch 7/30\n",
      "375/375 [==============================] - 3s 8ms/step - loss: 0.2830 - accuracy: 0.8959 - recall: 0.8763 - precision: 0.9164 - f1_score: 0.8955 - val_loss: 0.3357 - val_accuracy: 0.8773 - val_recall: 0.8642 - val_precision: 0.8947 - val_f1_score: 0.8774\n",
      "Epoch 8/30\n",
      "375/375 [==============================] - 3s 8ms/step - loss: 0.2701 - accuracy: 0.8992 - recall: 0.8795 - precision: 0.9183 - f1_score: 0.8990 - val_loss: 0.3199 - val_accuracy: 0.8834 - val_recall: 0.8705 - val_precision: 0.8986 - val_f1_score: 0.8826\n",
      "Epoch 9/30\n",
      "375/375 [==============================] - 3s 8ms/step - loss: 0.2604 - accuracy: 0.9024 - recall: 0.8851 - precision: 0.9206 - f1_score: 0.9021 - val_loss: 0.3190 - val_accuracy: 0.8872 - val_recall: 0.8727 - val_precision: 0.9035 - val_f1_score: 0.8848\n",
      "Epoch 10/30\n",
      "375/375 [==============================] - 3s 7ms/step - loss: 0.2469 - accuracy: 0.9079 - recall: 0.8912 - precision: 0.9244 - f1_score: 0.9076 - val_loss: 0.2988 - val_accuracy: 0.8938 - val_recall: 0.8792 - val_precision: 0.9102 - val_f1_score: 0.8929\n",
      "Epoch 11/30\n",
      "375/375 [==============================] - 3s 8ms/step - loss: 0.2380 - accuracy: 0.9107 - recall: 0.8949 - precision: 0.9261 - f1_score: 0.9104 - val_loss: 0.3034 - val_accuracy: 0.8922 - val_recall: 0.8774 - val_precision: 0.9105 - val_f1_score: 0.8929\n",
      "Epoch 12/30\n",
      "375/375 [==============================] - 3s 8ms/step - loss: 0.2322 - accuracy: 0.9128 - recall: 0.8985 - precision: 0.9269 - f1_score: 0.9126 - val_loss: 0.3210 - val_accuracy: 0.8899 - val_recall: 0.8798 - val_precision: 0.9027 - val_f1_score: 0.8884\n",
      "Epoch 13/30\n",
      "375/375 [==============================] - 3s 8ms/step - loss: 0.2264 - accuracy: 0.9152 - recall: 0.9019 - precision: 0.9293 - f1_score: 0.9149 - val_loss: 0.3012 - val_accuracy: 0.8953 - val_recall: 0.8800 - val_precision: 0.9130 - val_f1_score: 0.8941\n",
      "Epoch 14/30\n",
      "375/375 [==============================] - 3s 8ms/step - loss: 0.2137 - accuracy: 0.9186 - recall: 0.9062 - precision: 0.9325 - f1_score: 0.9183 - val_loss: 0.3528 - val_accuracy: 0.8763 - val_recall: 0.8643 - val_precision: 0.8918 - val_f1_score: 0.8757\n",
      "Epoch 15/30\n",
      "375/375 [==============================] - 3s 7ms/step - loss: 0.2105 - accuracy: 0.9212 - recall: 0.9098 - precision: 0.9329 - f1_score: 0.9210 - val_loss: 0.3308 - val_accuracy: 0.8891 - val_recall: 0.8783 - val_precision: 0.9022 - val_f1_score: 0.8869\n",
      "Epoch 16/30\n",
      "375/375 [==============================] - 3s 8ms/step - loss: 0.1994 - accuracy: 0.9229 - recall: 0.9124 - precision: 0.9344 - f1_score: 0.9226 - val_loss: 0.3181 - val_accuracy: 0.8951 - val_recall: 0.8858 - val_precision: 0.9065 - val_f1_score: 0.8951\n",
      "Epoch 17/30\n",
      "375/375 [==============================] - 3s 8ms/step - loss: 0.1982 - accuracy: 0.9250 - recall: 0.9142 - precision: 0.9361 - f1_score: 0.9248 - val_loss: 0.3138 - val_accuracy: 0.8972 - val_recall: 0.8887 - val_precision: 0.9086 - val_f1_score: 0.8970\n",
      "Epoch 18/30\n",
      "375/375 [==============================] - 3s 8ms/step - loss: 0.1906 - accuracy: 0.9285 - recall: 0.9186 - precision: 0.9385 - f1_score: 0.9283 - val_loss: 0.3308 - val_accuracy: 0.8870 - val_recall: 0.8763 - val_precision: 0.8986 - val_f1_score: 0.8879\n",
      "Epoch 19/30\n",
      "375/375 [==============================] - 3s 8ms/step - loss: 0.1845 - accuracy: 0.9296 - recall: 0.9206 - precision: 0.9391 - f1_score: 0.9294 - val_loss: 0.3414 - val_accuracy: 0.8915 - val_recall: 0.8836 - val_precision: 0.9004 - val_f1_score: 0.8927\n",
      "Epoch 20/30\n",
      "375/375 [==============================] - 3s 8ms/step - loss: 0.1828 - accuracy: 0.9306 - recall: 0.9213 - precision: 0.9404 - f1_score: 0.9304 - val_loss: 0.3153 - val_accuracy: 0.8968 - val_recall: 0.8848 - val_precision: 0.9087 - val_f1_score: 0.8967\n",
      "Epoch 21/30\n",
      "375/375 [==============================] - 3s 7ms/step - loss: 0.1727 - accuracy: 0.9349 - recall: 0.9264 - precision: 0.9432 - f1_score: 0.9347 - val_loss: 0.3185 - val_accuracy: 0.8970 - val_recall: 0.8873 - val_precision: 0.9094 - val_f1_score: 0.8960\n",
      "Epoch 22/30\n",
      "375/375 [==============================] - 3s 8ms/step - loss: 0.1703 - accuracy: 0.9351 - recall: 0.9270 - precision: 0.9439 - f1_score: 0.9350 - val_loss: 0.3490 - val_accuracy: 0.8932 - val_recall: 0.8863 - val_precision: 0.9021 - val_f1_score: 0.8931\n",
      "Epoch 23/30\n",
      "375/375 [==============================] - 3s 8ms/step - loss: 0.1642 - accuracy: 0.9389 - recall: 0.9310 - precision: 0.9468 - f1_score: 0.9388 - val_loss: 0.3198 - val_accuracy: 0.8936 - val_recall: 0.8857 - val_precision: 0.9045 - val_f1_score: 0.8930\n",
      "Epoch 24/30\n",
      "375/375 [==============================] - 3s 8ms/step - loss: 0.1596 - accuracy: 0.9394 - recall: 0.9313 - precision: 0.9469 - f1_score: 0.9393 - val_loss: 0.3368 - val_accuracy: 0.8936 - val_recall: 0.8855 - val_precision: 0.9040 - val_f1_score: 0.8934\n",
      "Epoch 25/30\n",
      "375/375 [==============================] - 3s 8ms/step - loss: 0.1545 - accuracy: 0.9410 - recall: 0.9339 - precision: 0.9484 - f1_score: 0.9409 - val_loss: 0.3335 - val_accuracy: 0.8995 - val_recall: 0.8932 - val_precision: 0.9083 - val_f1_score: 0.8985\n",
      "Epoch 26/30\n",
      "375/375 [==============================] - 3s 7ms/step - loss: 0.1521 - accuracy: 0.9413 - recall: 0.9351 - precision: 0.9485 - f1_score: 0.9412 - val_loss: 0.3555 - val_accuracy: 0.8994 - val_recall: 0.8958 - val_precision: 0.9059 - val_f1_score: 0.8992\n",
      "Epoch 27/30\n",
      "375/375 [==============================] - 3s 7ms/step - loss: 0.1447 - accuracy: 0.9446 - recall: 0.9381 - precision: 0.9508 - f1_score: 0.9444 - val_loss: 0.3538 - val_accuracy: 0.8960 - val_recall: 0.8900 - val_precision: 0.9040 - val_f1_score: 0.8944\n",
      "Epoch 28/30\n",
      "375/375 [==============================] - 3s 8ms/step - loss: 0.1442 - accuracy: 0.9452 - recall: 0.9389 - precision: 0.9511 - f1_score: 0.9451 - val_loss: 0.3456 - val_accuracy: 0.8988 - val_recall: 0.8915 - val_precision: 0.9066 - val_f1_score: 0.8988\n",
      "Epoch 29/30\n",
      "375/375 [==============================] - 3s 8ms/step - loss: 0.1364 - accuracy: 0.9475 - recall: 0.9420 - precision: 0.9531 - f1_score: 0.9474 - val_loss: 0.3823 - val_accuracy: 0.8933 - val_recall: 0.8871 - val_precision: 0.9018 - val_f1_score: 0.8930\n",
      "Epoch 30/30\n",
      "375/375 [==============================] - 3s 8ms/step - loss: 0.1386 - accuracy: 0.9469 - recall: 0.9416 - precision: 0.9529 - f1_score: 0.9468 - val_loss: 0.3713 - val_accuracy: 0.8970 - val_recall: 0.8933 - val_precision: 0.9033 - val_f1_score: 0.8958\n"
     ]
    }
   ],
   "source": [
    "history = model.fit(train_data, train_labels, \n",
    "                    batch_size=128, \n",
    "                    epochs=epochs,\n",
    "                    validation_split=0.2,\n",
    "                    verbose=1)"
   ]
  },
  {
   "cell_type": "code",
   "execution_count": 20,
   "metadata": {},
   "outputs": [
    {
     "name": "stdout",
     "output_type": "stream",
     "text": [
      "Функція втрат: 0.14 \n",
      "Accuracy: 94.69% \n",
      "Повнота (recall): 0.94 \n",
      "Точність (presicion): 0.95\n",
      "\n",
      "F-мера (мера точності) по класам:\n",
      "class 1: 0.92\n",
      "class 2: 1.00\n",
      "class 3: 0.89\n",
      "class 4: 0.96\n",
      "class 5: 0.89\n",
      "class 6: 0.99\n",
      "class 7: 0.86\n",
      "class 8: 0.98\n",
      "class 9: 1.00\n",
      "class 10: 0.98\n"
     ]
    }
   ],
   "source": [
    "loss = history.history[\"loss\"][epochs-1]\n",
    "accuracy = history.history[\"accuracy\"][epochs-1]\n",
    "recall = history.history[\"recall\"][epochs-1]               \n",
    "presicion = history.history[\"precision\"][epochs-1]                  \n",
    "f1_score = history.history[\"f1_score\"][epochs-1]\n",
    "print(f\"Функція втрат: {loss:.2f} \\nAccuracy: {accuracy*100:.2f}% \\nПовнота (recall): {recall:.2f} \\nТочність (presicion): {presicion:.2f}\") \n",
    "print(\"\\nF-міра (міра точності) по класам:\")\n",
    "for i in range(0, 10):\n",
    "    print(f\"class {i+1}: {f1_score[i]:.2f}\")"
   ]
  },
  {
   "cell_type": "code",
   "execution_count": 21,
   "metadata": {
    "colab": {
     "base_uri": "https://localhost:8080/",
     "height": 35
    },
    "colab_type": "code",
    "id": "4CX6To0sr2zd",
    "outputId": "3189e07a-6998-4162-ca1e-690014db0cec"
   },
   "outputs": [
    {
     "name": "stdout",
     "output_type": "stream",
     "text": [
      "63/63 [==============================] - 0s 3ms/step - loss: 0.3777 - accuracy: 0.9020 - recall: 0.8960 - precision: 0.9087 - f1_score: 0.8996\n",
      "Метріки, розраховані на тестових даних: \n",
      "Функція втрат: 0.38 \n",
      "Accuracy: 90.20% \n",
      "Повнота (recall): 0.90 \n",
      "Точність (presicion): 0.91\n",
      "\n",
      "F-мера (мера точності) по класам:\n",
      "class 1: 0.84\n",
      "class 2: 0.98\n",
      "class 3: 0.79\n",
      "class 4: 0.90\n",
      "class 5: 0.86\n",
      "class 6: 0.97\n",
      "class 7: 0.75\n",
      "class 8: 0.97\n",
      "class 9: 0.97\n",
      "class 10: 0.97\n"
     ]
    }
   ],
   "source": [
    "loss, accuracy, recall, presicion, f1_score = model.evaluate(\n",
    "    test_data[-2000:], test_labels[-2000:], verbose=1\n",
    ")\n",
    "print(\n",
    "    f\"Метріки, розраховані на тестових даних: \\nФункція втрат: {loss:.2f} \\nAccuracy: {accuracy*100:.2f}% \\nПовнота (recall): {recall:.2f} \\nТочність (presicion): {presicion:.2f}\"\n",
    ")\n",
    "\n",
    "print(\"\\nF-мiра (мiра точності) по класам:\")\n",
    "for i in range(0, 10):\n",
    "    print(f\"class {i+1}: {f1_score[i]:.2f}\")"
   ]
  },
  {
   "cell_type": "markdown",
   "metadata": {},
   "source": [
    "Була створена нейронна мережа (модель багатошарового персептрону) на основі датасету fashion_mnist для класифікаціїї зображень одягу. Мережа складається з двох прихованих і одного вихідного шару. Вихідний шар складається з 10 нейронів, що дорівнює кількості класів одягу. В якості функції активації на схованих шарах була використана функція активації relu. Для вихідного шару в якості функції активації була використана функція розподілу ймовірност softmax. В якості функції втрат, як для задачі многокласової класифікації, була використана categorical_crossentropy. В якості оптимізатора був викорастан ADAM оптимізатор.\n",
    "Для зменьшення перенавчання системи був використан dropout, більш високі результати були досягнуті за рахунок збільшення кількості нейронів і епох.\n",
    "При розрахунку помітно, що точність на тестових даних меньша, ніж на тренувальних даних. Це відбувається за рахунок того, що модель була навчена на навчальному датасеті train_data. Коли модель працює з зображенями, які вона ніколи не зустрічала (в даному випадку test_data), то її ефективність класифікації трохи знизилася."
   ]
  }
 ],
 "metadata": {
  "accelerator": "GPU",
  "colab": {
   "name": "fashion_mnist_prevent_overfitting.ipynb",
   "provenance": [],
   "version": "0.3.2"
  },
  "kernelspec": {
   "display_name": "Python 3 (ipykernel)",
   "language": "python",
   "name": "python3"
  },
  "language_info": {
   "codemirror_mode": {
    "name": "ipython",
    "version": 3
   },
   "file_extension": ".py",
   "mimetype": "text/x-python",
   "name": "python",
   "nbconvert_exporter": "python",
   "pygments_lexer": "ipython3",
   "version": "3.11.3"
  }
 },
 "nbformat": 4,
 "nbformat_minor": 4
}
